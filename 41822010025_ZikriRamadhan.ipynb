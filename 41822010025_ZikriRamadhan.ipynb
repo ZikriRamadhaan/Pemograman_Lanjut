{
  "cells": [
    {
      "cell_type": "code",
      "execution_count": null,
      "metadata": {
        "colab": {
          "base_uri": "https://localhost:8080/"
        },
        "id": "tFJoRpSraCsd",
        "outputId": "cf61d72b-6dd7-4471-9f25-ed2ac89bb34f"
      },
      "outputs": [
        {
          "name": "stdout",
          "output_type": "stream",
          "text": [
            "0\n"
          ]
        }
      ],
      "source": [
        "#No1\n",
        "a = 15 % 5\n",
        "print (a)"
      ]
    },
    {
      "cell_type": "code",
      "execution_count": null,
      "metadata": {
        "colab": {
          "base_uri": "https://localhost:8080/"
        },
        "id": "zTq7gmFGaX6E",
        "outputId": "5735d327-d0f1-4b69-a1a2-548cbaf31b1b"
      },
      "outputs": [
        {
          "name": "stdout",
          "output_type": "stream",
          "text": [
            "False\n"
          ]
        }
      ],
      "source": [
        "b = 12 + 3 * 5 == 75\n",
        "print (b)"
      ]
    },
    {
      "cell_type": "code",
      "execution_count": null,
      "metadata": {
        "colab": {
          "base_uri": "https://localhost:8080/"
        },
        "id": "QMmlM6tuabvT",
        "outputId": "17e470d1-3f3e-425e-9ee5-c43cab9fbdb2"
      },
      "outputs": [
        {
          "name": "stdout",
          "output_type": "stream",
          "text": [
            "PML15523\n"
          ]
        }
      ],
      "source": [
        "c = \"PML\" + \"15523\"\n",
        "print(c)"
      ]
    },
    {
      "cell_type": "code",
      "execution_count": null,
      "metadata": {
        "colab": {
          "base_uri": "https://localhost:8080/"
        },
        "id": "ajRtxsOcagYe",
        "outputId": "8a5deb3d-78a0-41e4-fd2f-40d316ca4a57"
      },
      "outputs": [
        {
          "name": "stdout",
          "output_type": "stream",
          "text": [
            "334\n"
          ]
        }
      ],
      "source": [
        "d = 100+234\n",
        "print(d)"
      ]
    },
    {
      "cell_type": "code",
      "execution_count": null,
      "metadata": {
        "colab": {
          "base_uri": "https://localhost:8080/"
        },
        "id": "gKjxCiiDah8E",
        "outputId": "50a2d3b8-fab8-45aa-f00d-d918949db95e"
      },
      "outputs": [
        {
          "name": "stdout",
          "output_type": "stream",
          "text": [
            "False\n"
          ]
        }
      ],
      "source": [
        "e = ((11 % 3) + 2) != 8 / 2\n",
        "print(e)"
      ]
    },
    {
      "cell_type": "code",
      "execution_count": null,
      "metadata": {
        "colab": {
          "base_uri": "https://localhost:8080/"
        },
        "id": "jjqfTWJCanWX",
        "outputId": "fdb3927d-fa19-4b69-bd74-a0c354f8d71a"
      },
      "outputs": [
        {
          "name": "stdout",
          "output_type": "stream",
          "text": [
            "False\n"
          ]
        }
      ],
      "source": [
        "#NO2\n",
        "A = (11 - 4) == (4 + 5)\n",
        "print(A)"
      ]
    },
    {
      "cell_type": "code",
      "execution_count": null,
      "metadata": {
        "colab": {
          "base_uri": "https://localhost:8080/"
        },
        "id": "O6g26GjFapNi",
        "outputId": "662418cf-6326-4b13-d366-f774c05421c6"
      },
      "outputs": [
        {
          "name": "stdout",
          "output_type": "stream",
          "text": [
            "True\n"
          ]
        }
      ],
      "source": [
        "B = ((11 % 3) + 5) != (4 % 2)\n",
        "print(B)"
      ]
    },
    {
      "cell_type": "code",
      "execution_count": null,
      "metadata": {
        "colab": {
          "base_uri": "https://localhost:8080/"
        },
        "id": "7_xW86fjauY1",
        "outputId": "8965683d-16dd-4f50-e0dd-e1b7de61be54"
      },
      "outputs": [
        {
          "name": "stdout",
          "output_type": "stream",
          "text": [
            "False\n"
          ]
        }
      ],
      "source": [
        "C = (5 - 3) == (11 % 2 + 5)\n",
        "print(C)"
      ]
    },
    {
      "cell_type": "code",
      "execution_count": null,
      "metadata": {
        "colab": {
          "base_uri": "https://localhost:8080/"
        },
        "id": "kUEkIj5Ka5ht",
        "outputId": "ab1f87e1-ea59-4043-92ad-6bf426611379"
      },
      "outputs": [
        {
          "name": "stdout",
          "output_type": "stream",
          "text": [
            "True\n"
          ]
        }
      ],
      "source": [
        "D = (4 + 5) != ((11 * 2) % 2)\n",
        "print(D)"
      ]
    },
    {
      "cell_type": "code",
      "execution_count": null,
      "metadata": {
        "colab": {
          "base_uri": "https://localhost:8080/"
        },
        "id": "ZU_UhExicETS",
        "outputId": "f6e6b781-1579-4b47-8cff-a35b0f1b0896"
      },
      "outputs": [
        {
          "name": "stdout",
          "output_type": "stream",
          "text": [
            "True\n"
          ]
        }
      ],
      "source": [
        "E = ((5 % 3) + 11) > (4 % 2)\n",
        "print(E)"
      ]
    },
    {
      "cell_type": "code",
      "execution_count": null,
      "metadata": {
        "colab": {
          "base_uri": "https://localhost:8080/"
        },
        "id": "yuj2TgEMcJzz",
        "outputId": "4bf34a7a-7e87-4c7b-9158-5fade9496ac7"
      },
      "outputs": [
        {
          "name": "stdout",
          "output_type": "stream",
          "text": [
            "True\n"
          ]
        }
      ],
      "source": [
        "F = (4 + 11) <= (5 * 5)\n",
        "print(F)"
      ]
    },
    {
      "cell_type": "code",
      "execution_count": null,
      "metadata": {
        "colab": {
          "base_uri": "https://localhost:8080/",
          "height": 35
        },
        "id": "WQ_40rb3cNyN",
        "outputId": "321cb8a7-e0c3-4eb7-a871-ef9820011764"
      },
      "outputs": [
        {
          "data": {
            "application/vnd.google.colaboratory.intrinsic+json": {
              "type": "string"
            },
            "text/plain": [
              "'HoneyBooBooBoo'"
            ]
          },
          "execution_count": 12,
          "metadata": {},
          "output_type": "execute_result"
        }
      ],
      "source": [
        "#isian NO 1\n",
        "\n",
        "\"Honey\" + \"Boo\" * 3"
      ]
    },
    {
      "cell_type": "code",
      "execution_count": null,
      "metadata": {
        "colab": {
          "base_uri": "https://localhost:8080/",
          "height": 35
        },
        "id": "eEHmBaAWcwTU",
        "outputId": "6d527141-f052-46d9-bd32-f284fcc50df0"
      },
      "outputs": [
        {
          "data": {
            "application/vnd.google.colaboratory.intrinsic+json": {
              "type": "string"
            },
            "text/plain": [
              "'Berlin'"
            ]
          },
          "execution_count": 13,
          "metadata": {},
          "output_type": "execute_result"
        }
      ],
      "source": [
        "capitals = {}\n",
        "capitals['Murica'] = 'Warshington'\n",
        "capitals['Germany'] = 'Bonn'\n",
        "capitals['France'] = 'Paris'\n",
        "capitals['England'] = 'London'\n",
        "capitals['Germany'] = 'Berlin'\n",
        "\n",
        "capitals['Germany']"
      ]
    },
    {
      "cell_type": "code",
      "execution_count": null,
      "metadata": {
        "colab": {
          "base_uri": "https://localhost:8080/"
        },
        "id": "J00C9eWCczBF",
        "outputId": "81a5cb4a-a705-4767-c487-f6c5826be7ee"
      },
      "outputs": [
        {
          "name": "stdout",
          "output_type": "stream",
          "text": [
            "32\n"
          ]
        }
      ],
      "source": [
        "#isian NO 3\n",
        "\n",
        "a = 23\n",
        "b = 9\n",
        "print(a + b)"
      ]
    },
    {
      "cell_type": "code",
      "execution_count": null,
      "metadata": {
        "colab": {
          "base_uri": "https://localhost:8080/",
          "height": 35
        },
        "id": "1w0pAUvIc2h_",
        "outputId": "ebd73f29-8c37-4f9f-e6d8-341717720b6f"
      },
      "outputs": [
        {
          "data": {
            "application/vnd.google.colaboratory.intrinsic+json": {
              "type": "string"
            },
            "text/plain": [
              "'b'"
            ]
          },
          "execution_count": 15,
          "metadata": {},
          "output_type": "execute_result"
        }
      ],
      "source": [
        "#isian NO 4\n",
        "\n",
        "letters = [\"a\", \"b\", \"o\", \"c\", \"p\"]\n",
        "letters[1]"
      ]
    },
    {
      "cell_type": "code",
      "execution_count": null,
      "metadata": {
        "colab": {
          "base_uri": "https://localhost:8080/",
          "height": 35
        },
        "id": "OAAonVwnfC76",
        "outputId": "cb6ceb97-2e64-4a32-b679-31f95b8294bf"
      },
      "outputs": [
        {
          "data": {
            "application/vnd.google.colaboratory.intrinsic+json": {
              "type": "string"
            },
            "text/plain": [
              "'c'"
            ]
          },
          "execution_count": 16,
          "metadata": {},
          "output_type": "execute_result"
        }
      ],
      "source": [
        "letters[len(letters) - 2]"
      ]
    },
    {
      "cell_type": "code",
      "execution_count": null,
      "metadata": {
        "colab": {
          "base_uri": "https://localhost:8080/"
        },
        "id": "Bo2UjQ_FfRDk",
        "outputId": "0a3524a1-4ecc-447a-ac6c-051fdbd660ed"
      },
      "outputs": [
        {
          "data": {
            "text/plain": [
              "['a', 'b', 'o', 'c', 'p', 'x']"
            ]
          },
          "execution_count": 17,
          "metadata": {},
          "output_type": "execute_result"
        }
      ],
      "source": [
        "letters + [\"x\"]"
      ]
    },
    {
      "cell_type": "code",
      "execution_count": null,
      "metadata": {
        "colab": {
          "base_uri": "https://localhost:8080/"
        },
        "id": "NXUEYxXkhk_z",
        "outputId": "4b6eab86-abb0-4f96-ffd5-0e571420f44f"
      },
      "outputs": [
        {
          "data": {
            "text/plain": [
              "['a', 'b', 'o', 'c', 'p']"
            ]
          },
          "execution_count": 19,
          "metadata": {},
          "output_type": "execute_result"
        }
      ],
      "source": [
        "letters"
      ]
    },
    {
      "cell_type": "code",
      "execution_count": null,
      "metadata": {
        "colab": {
          "base_uri": "https://localhost:8080/",
          "height": 35
        },
        "id": "h1rsrWP7hpoj",
        "outputId": "92e36778-e7b1-44d1-b068-8c4d2f0a2b2c"
      },
      "outputs": [
        {
          "data": {
            "application/vnd.google.colaboratory.intrinsic+json": {
              "type": "string"
            },
            "text/plain": [
              "'h a n d s'"
            ]
          },
          "execution_count": 35,
          "metadata": {},
          "output_type": "execute_result"
        }
      ],
      "source": [
        "#Isian NO 5\n",
        "' '.join('h a n d s'.split())"
      ]
    },
    {
      "cell_type": "code",
      "execution_count": null,
      "metadata": {
        "colab": {
          "base_uri": "https://localhost:8080/"
        },
        "id": "P423L4FFh_gl",
        "outputId": "4b3e9bed-8438-4480-ee4d-d4441d6f6d29"
      },
      "outputs": [
        {
          "name": "stdout",
          "output_type": "stream",
          "text": [
            "deux\n"
          ]
        }
      ],
      "source": [
        "#Isian NO 6\n",
        "import json\n",
        "\n",
        "json_string = \"\"\"\n",
        "[\n",
        "    {\"1\": \"one\", \"2\": \"two\", \"3\": \"three\"},\n",
        "    {\"1\": \"un\", \"2\": \"deux\", \"3\": \"trois\"},\n",
        "    {\"1\": \"eins\", \"2\": \"zwei\", \"3\": \"drei\"}\n",
        "]\n",
        "\"\"\"\n",
        "\n",
        "try:\n",
        "    data = json.loads(json_string)\n",
        "    result = data[1][\"2\"]\n",
        "    print(result)\n",
        "except json.JSONDecodeError as e:\n",
        "    print(f\"JSON decoding error: {e}\")\n",
        "except KeyError as e:\n",
        "    print(f\"Key error: {e}\")\n",
        "except IndexError as e:\n",
        "    print(f\"Index error: {e}\")"
      ]
    },
    {
      "cell_type": "code",
      "execution_count": null,
      "metadata": {
        "colab": {
          "base_uri": "https://localhost:8080/"
        },
        "id": "ii2Fjjv-jstj",
        "outputId": "891f46d5-2c42-4870-f26d-348f6c32ce04"
      },
      "outputs": [
        {
          "name": "stdout",
          "output_type": "stream",
          "text": [
            "0\n"
          ]
        }
      ],
      "source": [
        "#Isian NO 7\n",
        "def pembagi_indeks(nums, divisor):\n",
        "    for i in range(len(nums)):\n",
        "        if nums[i] % divisor == 0:\n",
        "            return i\n",
        "    return -1\n",
        "\n",
        "vals = [100, 66, 55, 64, 41, 35, 18, 64]\n",
        "result = pembagi_indeks(vals, 5)\n",
        "print(result)\n"
      ]
    },
    {
      "cell_type": "code",
      "execution_count": 39,
      "metadata": {
        "colab": {
          "base_uri": "https://localhost:8080/"
        },
        "id": "6xxGYTajlinq",
        "outputId": "f880c06e-db89-4fb7-ca50-bd10b95f72e8"
      },
      "outputs": [
        {
          "name": "stdout",
          "output_type": "stream",
          "text": [
            "4\n"
          ]
        }
      ],
      "source": [
        "#Isian NO 8\n",
        "def mystery(n, m):\n",
        "    p = 0\n",
        "    e = 0\n",
        "    while p < n:\n",
        "        p = n\n",
        "        e = m\n",
        "    return p\n",
        "\n",
        "print(mystery(4, 3))"
      ]
    },
    {
      "cell_type": "code",
      "execution_count": null,
      "metadata": {
        "id": "eFvK206Ll5mn"
      },
      "outputs": [],
      "source": []
    }
  ],
  "metadata": {
    "colab": {
      "provenance": []
    },
    "kernelspec": {
      "display_name": "Python 3",
      "name": "python3"
    },
    "language_info": {
      "name": "python"
    }
  },
  "nbformat": 4,
  "nbformat_minor": 0
}
